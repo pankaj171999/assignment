{
 "cells": [
  {
   "cell_type": "markdown",
   "id": "ffad9c65-393a-41b0-ae60-fd9a58537a29",
   "metadata": {},
   "source": [
    "Q1(ans)= Guido Van Rossue developed python programming language.\n",
    "\n",
    "Q2(ans)= Python is an interpreted programming language, which supports , object-oriented programming ,structured and functional programming.\n",
    "\n",
    "Q3(ans)= Yes, case is always significant while dealing with identifier in python.\n",
    "\n",
    "Q4(ans)=\".py\" is the correct extention of the python file, python programs can be written in any text editor .To save these programs we need to save these programs  in files with file extention \".py\".\n",
    "\n",
    "Q5(ans)= python code is both compiler and interpreted.\n",
    "\n",
    "Q6(ans)= statement ,indentation and comment.\n",
    "\n",
    "Q7(ans)= To write a single -line comment in python use the hash character(#) as the beginning of the line\n",
    "    \n",
    "Q8(ans)= Sys. version function can help us to find the version of python that we are currently working on.\n",
    "    \n",
    "Q9(ans) = lambda\n",
    "    \n",
    "Q10(ans) = Preferred Installer Program\n",
    "    \n",
    "Q11(ans)= print(),type(),input(),len(),sum()\n",
    "    \n",
    "Q12(ans)= An identified can have maximum length of 79 character in python\n",
    "    \n",
    "Q13(ans)= Python programming is a general purpose skill used in almost all field , including,\n",
    "          * Data science\n",
    "          * Scientific and mathematical compution\n",
    "          * web development etc\n",
    "\n",
    "Q14(ans)= According to the python memory management documentation , python has a private heap that stores our programs.\n",
    "    \n",
    "Q15(ans)=    Install python from this link https://www.python.org/downloads/\n",
    "             After this, install it on your PC. Look for the location where PYTHON has been installed on your PC using tge following command on your command prompt: cmd python.\n",
    "             Then go to advanced system settings and add new variable and name it as PYTHON_NAME and paste the copied path.\n",
    "             Then look for the path variable, select it's value and select edit\n",
    "             Add a semicolon towards the end of the value if it's not present and then type %PYTHON_HOME%\n",
    "    \n",
    "Q16(ans)= Yes, indentation is very important in python.    "
   ]
  }
 ],
 "metadata": {
  "kernelspec": {
   "display_name": "Python 3 (ipykernel)",
   "language": "python",
   "name": "python3"
  },
  "language_info": {
   "codemirror_mode": {
    "name": "ipython",
    "version": 3
   },
   "file_extension": ".py",
   "mimetype": "text/x-python",
   "name": "python",
   "nbconvert_exporter": "python",
   "pygments_lexer": "ipython3",
   "version": "3.10.8"
  }
 },
 "nbformat": 4,
 "nbformat_minor": 5
}
